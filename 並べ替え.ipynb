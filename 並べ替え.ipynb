{
 "cells": [
  {
   "cell_type": "markdown",
   "id": "63a4faf2-bdd4-47d7-b30a-9168f4e0d2ac",
   "metadata": {},
   "source": [
    "バブルソートの学習"
   ]
  },
  {
   "cell_type": "code",
   "execution_count": 46,
   "id": "27a0c6ba-85bc-47fb-9fc9-ca89c32bfb9a",
   "metadata": {
    "tags": []
   },
   "outputs": [
    {
     "name": "stdout",
     "output_type": "stream",
     "text": [
      "[23, 46, 48, 60, 60, 80]\n"
     ]
    }
   ],
   "source": [
    "List1 = [46, 23, 60, 80, 60, 48]\n",
    "# sortList = []\n",
    "\n",
    "# beforeListと同じ数の要素を作成\n",
    "# for i in range(len(beforeList)):\n",
    "#     sortList.append(0)\n",
    "temp = 0\n",
    "i = len(List1) - 1\n",
    "l = 0\n",
    "\n",
    "while i > l:\n",
    "    if List1[i] < List1[i-1]:\n",
    "        temp = List1[i]\n",
    "        List1.pop(i)\n",
    "        # print(List1)\n",
    "        List1.insert(i-1, temp)\n",
    "        # print(List1)\n",
    "    i -= 1\n",
    "    if i == l:\n",
    "        i = len(List1)-1\n",
    "        l += 1\n",
    "print(List1)"
   ]
  },
  {
   "cell_type": "markdown",
   "id": "82adeb94-984a-4bfe-811d-933e541186ec",
   "metadata": {},
   "source": [
    "選択ソートの学習"
   ]
  },
  {
   "cell_type": "code",
   "execution_count": 43,
   "id": "df61d4fb-ab97-46a4-a8f2-096bdc491438",
   "metadata": {
    "tags": []
   },
   "outputs": [
    {
     "name": "stdout",
     "output_type": "stream",
     "text": [
      "[23, 23, 42, 45, 48, 48, 60]\n"
     ]
    }
   ],
   "source": [
    "List2 = [46, 23, 60, 48, 60, 45, 42]\n",
    "sort_list = list()\n",
    "min_value = List2[0]\n",
    "index = 0\n",
    "i = 1\n",
    "\n",
    "while True:\n",
    "    if len(List2) == 0:\n",
    "        break\n",
    "    i = 1\n",
    "    min_value = List2[0]\n",
    "    while i < len(List2):\n",
    "        index = 0\n",
    "        if min_value > List2[i]:\n",
    "            min_value = List2[i]\n",
    "            index = i\n",
    "        i += 1\n",
    "    sort_list.append(min_value)\n",
    "    # print(sort_list)\n",
    "    List2.pop(index)\n",
    "    # print(len(List2))\n",
    "    # print(List2)\n",
    "print(sort_list)"
   ]
  },
  {
   "cell_type": "markdown",
   "id": "d674c7e7-349b-4acc-82d3-24d4f9e3960a",
   "metadata": {},
   "source": [
    "挿入ソートの学習"
   ]
  },
  {
   "cell_type": "code",
   "execution_count": 73,
   "id": "49594a2d-90af-479b-b187-c52cf198b677",
   "metadata": {
    "tags": []
   },
   "outputs": [
    {
     "name": "stdin",
     "output_type": "stream",
     "text": [
      "複数の整数 54 67 34 25 67\n"
     ]
    },
    {
     "name": "stdout",
     "output_type": "stream",
     "text": [
      "[54, 67, 34, 25, 67]\n",
      "[54, 67]\n",
      "[25, 34, 54, 67, 67]\n"
     ]
    }
   ],
   "source": [
    "value = input('複数の整数')\n",
    "List3 = list(map(int,value.split()))\n",
    "insertList = list()\n",
    "index = int()\n",
    "insertVal = int()\n",
    "i = len(insertList)-1\n",
    "print(List3)\n",
    "def sort():\n",
    "    if List3[0] <= List3[1]:\n",
    "        insertList.append(List3[0])\n",
    "        insertList.append(List3[1])\n",
    "    elif List3[0] > List3[1]:\n",
    "        insertList.append(List3[1])\n",
    "        insertList.append(List3[0])\n",
    "    else:\n",
    "        # リストの値がなかった場合の対応\n",
    "        return False\n",
    "    print(insertList)\n",
    "    List3.pop(0)\n",
    "    List3.pop(0)\n",
    "    while True:\n",
    "        if len(List3) == 0:\n",
    "            break\n",
    "        insertVal = List3[0]\n",
    "        i = len(insertList)-1\n",
    "        # indexが-1の場合はinsertListの一番後ろに挿入する\n",
    "        index = -1\n",
    "        while i >= 0:\n",
    "            if List3[0] < insertList[i]:\n",
    "                index = i\n",
    "            i -= 1\n",
    "        if index != -1:\n",
    "            insertList.insert(index, insertVal)\n",
    "        else:\n",
    "            insertList.append(insertVal)\n",
    "        List3.pop(0)\n",
    "    print(insertList)\n",
    "sort()"
   ]
  },
  {
   "cell_type": "code",
   "execution_count": null,
   "id": "43daac3f-d3e6-408c-929d-f7314b16359d",
   "metadata": {},
   "outputs": [],
   "source": []
  }
 ],
 "metadata": {
  "kernelspec": {
   "display_name": "Python 3 (ipykernel)",
   "language": "python",
   "name": "python3"
  },
  "language_info": {
   "codemirror_mode": {
    "name": "ipython",
    "version": 3
   },
   "file_extension": ".py",
   "mimetype": "text/x-python",
   "name": "python",
   "nbconvert_exporter": "python",
   "pygments_lexer": "ipython3",
   "version": "3.11.5"
  }
 },
 "nbformat": 4,
 "nbformat_minor": 5
}
